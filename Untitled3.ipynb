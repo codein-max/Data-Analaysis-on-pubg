{
  "nbformat": 4,
  "nbformat_minor": 0,
  "metadata": {
    "colab": {
      "name": "Untitled3.ipynb",
      "provenance": []
    },
    "kernelspec": {
      "name": "python3",
      "display_name": "Python 3"
    },
    "language_info": {
      "name": "python"
    }
  },
  "cells": [
    {
      "cell_type": "code",
      "metadata": {
        "id": "HpUoWl6FA8zf"
      },
      "source": [
        "#we find no.of players with unique id\n",
        "import pandas as pd\n",
        "import matplotlib.pyplot as plt\n",
        "import seaborn as sns\n",
        "a=pd.read_csv(r'/content/drive/MyDrive/Colab Notebooks/train_V2.csv')\n",
        "for i in ['Id','groupId','matchId']:\n",
        "    print(f\"unique[{i}] count:\",a[i].nunique())\n",
        "#ANALAZING KILLS\n",
        "print(\"on an average a person kills players{:.4f}, 75% od people have {} kills or less,while the maxi kills ever recorded is {} \".format(a['kills'].mean(),a['kills'].quantile(0.75),a['kills'].max()))\n",
        "#inceerasing of winning percentage\n",
        "kills = a.copy()\n",
        "\n",
        "kills['killsCategories'] = pd.cut(kills['kills'], [-1, 0, 2, 5, 10, 60], labels=['0_kills','1-2_kills', '3-5_kills', '6-10_kills', '10+_kills'])\n",
        "\n",
        "plt.figure(figsize=(15,8))\n",
        "sns.boxplot(x=\"killsCategories\", y=\"winPlacePerc\", data=kills)\n",
        "plt.show()\n",
        "#ANALAZING Running in winning place percantage\n",
        "data=a\n",
        "data1=a\n",
        "print(\"{} players ({:.4f}%) walked 0 meters. This means that either they die before even taking a step or they have just joined the game but are away from keyboard (more possible).\".format(len(data[data['walkDistance'] == 0]), 100*len(data1[data1['walkDistance']==0])/len(a)))\n",
        "sns.jointplot(x=\"winPlacePerc\", y=\"walkDistance\",  data=a, height=10, ratio=3, color=\"blue\")\n",
        "plt.show()\n",
        "#ANALAZING Riding  in winning percentage\n",
        "print(\"An average person drives for {:.1f}m, 99% of people have drived {}m or less, while THE RIDER rode for {}m.\".format(a['rideDistance'].mean(),a['rideDistance'].quantile(0.99), a['rideDistance'].max()))\n",
        "sns.jointplot(x=\"winPlacePerc\", y=\"rideDistance\", data=a, height=10, ratio=3, color=\"red\")\n",
        "plt.show()\n",
        "#ANALAZING healing and boosting in winPlacePerc\n",
        "print(\"In the game on an average a person uses {:.1f} heal items, 99% of people use {} or less, while the doctor used {}.\".format(a['heals'].mean(), a['heals'].quantile(0.99), a['heals'].max()))\n",
        "print(\"In the game on an average a person uses {:.1f} boost items, 99% of people use {} or less, while the doctor used {}.\".format(a['boosts'].mean(), a['boosts'].quantile(0.99), a['boosts'].max()))\n",
        "data = a.copy()\n",
        "data = data[data['heals'] < data['heals'].quantile(0.99)]\n",
        "data = data[data['boosts'] < data['boosts'].quantile(0.99)]\n",
        "\n",
        "f,ax1 = plt.subplots(figsize =(15,8))\n",
        "sns.pointplot(x='heals',y='winPlacePerc',data=data,color='lime',alpha=0.8)\n",
        "sns.pointplot(x='boosts',y='winPlacePerc',data=data,color='blue',alpha=0.8)\n",
        "plt.text(4,0.6,'Heals',color='lime',fontsize = 16,style = 'italic')\n",
        "plt.text(4,0.55,'Boosts',color='blue',fontsize = 16,style = 'italic')\n",
        "plt.xlabel('Number of heal/boost items',fontsize = 16,color='blue')\n",
        "plt.ylabel('Win Percentage',fontsize = 16,color='blue')\n",
        "plt.title('Heals vs Boosts',fontsize = 20,color='blue')\n",
        "plt.grid()\n",
        "plt.show()\n",
        "#finding total distance\n",
        "a['totalDistance']=a['rideDistance']+a['walkDistance']+a['swinDistance']\n",
        "#finding head shot per kills\n",
        "a['headshor_rate']=a['headshotKills']/a['kills']\n",
        "a['_headshot_rate'] = a['_headshot_rate'].fillna(0)\n",
        "#finding hackers\n",
        "a[(a['kills'] >= 40) & (a['weaponsAcquired'] > 55) & (a['_totalDistance'] < 100.0)]\n",
        "a[(a['kills'] >= 40) & (a['heals'] == 0)]\n",
        "#removing hackers\n",
        "a.drop(a[(a['kills'] >= 40) & (a['weaponsAcquired'] > 55) & (a['_totalDistance'] < 100.0)].index, inplace=True)\n",
        "a.drop(a[(a['kills'] >= 40) & (a['heals'] == 0)].index, inplace=True)\n",
        "#longest kill\n",
        "a[a['longestKill'] >= 1000]\n",
        "show_distplot('longestKill')\n",
        "#droping hackkers in longestKill\n",
        "a.drop(a[a['longestKill'] >= 1000].index, inplace=True)"
      ],
      "execution_count": null,
      "outputs": []
    }
  ]
}